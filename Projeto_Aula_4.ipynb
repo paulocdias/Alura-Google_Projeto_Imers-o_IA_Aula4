{
  "nbformat": 4,
  "nbformat_minor": 0,
  "metadata": {
    "colab": {
      "provenance": [],
      "authorship_tag": "ABX9TyNy/g9rVYTWJn7WFGmElbYn",
      "include_colab_link": true
    },
    "kernelspec": {
      "name": "python3",
      "display_name": "Python 3"
    },
    "language_info": {
      "name": "python"
    }
  },
  "cells": [
    {
      "cell_type": "markdown",
      "metadata": {
        "id": "view-in-github",
        "colab_type": "text"
      },
      "source": [
        "<a href=\"https://colab.research.google.com/github/paulocdias/Alura_Projeto_Imersao_Aula4/blob/main/Projeto_Aula_4.ipynb\" target=\"_parent\"><img src=\"https://colab.research.google.com/assets/colab-badge.svg\" alt=\"Open In Colab\"/></a>"
      ]
    },
    {
      "cell_type": "markdown",
      "source": [
        "1-Inslatando o SDK do Google"
      ],
      "metadata": {
        "id": "nJy5Jkl40VDG"
      }
    },
    {
      "cell_type": "code",
      "execution_count": 1,
      "metadata": {
        "id": "UyQLtaaH0JDC"
      },
      "outputs": [],
      "source": [
        "!pip install -q -U google-generativeai"
      ]
    },
    {
      "cell_type": "code",
      "source": [
        "import google.generativeai as genai\n",
        "from google.colab import userdata\n",
        "api_key = userdata.get('SECRET_KEY')\n",
        "\n",
        "genai.configure(api_key=api_key)"
      ],
      "metadata": {
        "id": "31D-gDLS1dZt"
      },
      "execution_count": 56,
      "outputs": []
    },
    {
      "cell_type": "markdown",
      "source": [
        "2-Listar os Modelos Disponíveis"
      ],
      "metadata": {
        "id": "dekW4MmN15Qt"
      }
    },
    {
      "cell_type": "code",
      "source": [
        "for m in genai.list_models():\n",
        "    if 'generateConect' in m.supported_generation_methods:\n",
        "        print(m.name)"
      ],
      "metadata": {
        "id": "gB3lu26C1w4_"
      },
      "execution_count": 12,
      "outputs": []
    },
    {
      "cell_type": "markdown",
      "source": [
        "3-Configurando os Filtros"
      ],
      "metadata": {
        "id": "IR9w0CYK-OPN"
      }
    },
    {
      "cell_type": "code",
      "source": [
        "safety_settings = {\n",
        "    \"HARASSMENT\": \"BLOCK_NONE\",\n",
        "    \"HATE\": \"BLOCK_NONE\",\n",
        "    \"SEXUAL\": \"BLOCK_NONE\",\n",
        "    \"DANGEROUS\": \"BLOCK_NONE\",\n",
        "}"
      ],
      "metadata": {
        "id": "352jr8lo8XsM"
      },
      "execution_count": 25,
      "outputs": []
    },
    {
      "cell_type": "code",
      "source": [
        "generation_config = {\n",
        "    \"candidate_count\": 1,\n",
        "    \"temperature\": 0.5,\n",
        "    \"max_tokens\": 200,\n",
        "}"
      ],
      "metadata": {
        "id": "teN8PHvPBgYE"
      },
      "execution_count": 42,
      "outputs": []
    },
    {
      "cell_type": "markdown",
      "source": [
        "4-Inicializando os Modelos"
      ],
      "metadata": {
        "id": "7sOZDpsJ-fMe"
      }
    },
    {
      "cell_type": "code",
      "source": [
        "model = genai.GenerativeModel(model_name = 'gemini-1.0-pro', safety_settings=safety_settings,generation_config=generation_config,)"
      ],
      "metadata": {
        "id": "cUm2YMHT-nDf"
      },
      "execution_count": 41,
      "outputs": []
    },
    {
      "cell_type": "code",
      "source": [
        "response = model.generate_content(\"Vamos aprender conteúdo sobre IA. Me de sugestões.\")\n",
        "print(response.text)"
      ],
      "metadata": {
        "colab": {
          "base_uri": "https://localhost:8080/",
          "height": 707
        },
        "id": "qZezOAIy_zIs",
        "outputId": "973768a9-ed8f-4c02-c344-3eddb1921388"
      },
      "execution_count": 43,
      "outputs": [
        {
          "output_type": "stream",
          "name": "stdout",
          "text": [
            "**Conceitos Básicos de IA**\n",
            "\n",
            "* Definição de Inteligência Artificial (IA)\n",
            "* Tipos de IA: IA Forte, IA Fraca, IA Geral\n",
            "* Aprendizado de Máquina (ML): Aprendizado Supervisionado, Não Supervisionado, por Reforço\n",
            "* Redes Neurais: Arquiteturas, Treinamento, Aplicações\n",
            "* Processamento de Linguagem Natural (PNL)\n",
            "\n",
            "**Técnicas e Algoritmos de IA**\n",
            "\n",
            "* Regressão Linear e Logística\n",
            "* Árvores de Decisão e Florestas Aleatórias\n",
            "* Máquinas de Vetores de Suporte (SVMs)\n",
            "* Redes Neurais Convolucionais (CNNs)\n",
            "* Redes Neurais Recorrentes (RNNs)\n",
            "\n",
            "**Aplicações de IA**\n",
            "\n",
            "* Visão Computacional: Reconhecimento de Objetos, Detecção de Rostos\n",
            "* Processamento de Linguagem Natural: Tradução de Idiomas, Geração de Texto\n",
            "* Diagnóstico Médico: Análise de Imagem, Previsão de Doenças\n",
            "* Carros Autônomos: Navegação, Detecção de Objetos\n",
            "* Finanças: Detecção de Fraudes, Previsão de Mercado\n",
            "\n",
            "**Ética e Implicações Sociais da IA**\n",
            "\n",
            "* Viés e Discriminação em Algoritmos de IA\n",
            "* Desemprego devido à Automação\n",
            "* Privacidade e Vigilância\n",
            "* Regulamentação e Governança da IA\n",
            "\n",
            "**Recursos para Aprender sobre IA**\n",
            "\n",
            "* Cursos Online: Coursera, edX, Udemy\n",
            "* Livros: \"Inteligência Artificial: Uma Abordagem Moderna\", \"Aprendizado Profundo\"\n",
            "* Tutoriais e Documentação: TensorFlow, PyTorch, Keras\n",
            "* Comunidades Online: Stack Overflow, Reddit\n",
            "* Conferências e Workshops: NeurIPS, CVPR, ICML\n"
          ]
        }
      ]
    },
    {
      "cell_type": "code",
      "source": [
        "chat = model.start_chat(history=[])\n"
      ],
      "metadata": {
        "id": "NwM4WCqOh2yZ"
      },
      "execution_count": 44,
      "outputs": []
    },
    {
      "cell_type": "markdown",
      "source": [
        "5-Programando o prompt para receber uma pergunta"
      ],
      "metadata": {
        "id": "nXZdUWjNj1In"
      }
    },
    {
      "cell_type": "code",
      "source": [
        "prompt = input(\"Esperando prompt:   \")\n",
        "\n",
        "while prompt != \"fim\":\n",
        "  response = chat.send_message(prompt)\n",
        "  print(\"Resposta:   \", response.text, \"\\n\")\n",
        "  prompt = input(\"Esperando prompt:   \")"
      ],
      "metadata": {
        "id": "JO1MIUc8iQUP"
      },
      "execution_count": null,
      "outputs": []
    },
    {
      "cell_type": "markdown",
      "source": [
        "6-É possivel ver o histórico das perguntas e respostas digitadas no prompt"
      ],
      "metadata": {
        "id": "26hhBvtqm8tX"
      }
    },
    {
      "cell_type": "code",
      "source": [
        "chat.history"
      ],
      "metadata": {
        "id": "qhCXSGnbmUKY"
      },
      "execution_count": null,
      "outputs": []
    }
  ]
}